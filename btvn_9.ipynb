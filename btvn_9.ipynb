{
 "cells": [
  {
   "cell_type": "code",
   "execution_count": 15,
   "metadata": {},
   "outputs": [
    {
     "name": "stdout",
     "output_type": "stream",
     "text": [
      "Tên chuẩn:  Dfsdfdsf "
     ]
    }
   ],
   "source": [
    "txt = input('Nhập tên: ')\n",
    "\n",
    "txt1 = txt.strip().lower()\n",
    "\n",
    "lst = txt1.split()\n",
    "\n",
    "print ('Tên chuẩn: ', end= ' ')\n",
    "\n",
    "for name in lst:\n",
    "    name = name[0].upper() + name[1:]\n",
    "    print(name, end=' ')"
   ]
  },
  {
   "cell_type": "code",
   "execution_count": 1,
   "metadata": {},
   "outputs": [
    {
     "name": "stdout",
     "output_type": "stream",
     "text": [
      "4902778120972 là một mã vạch đúng\n",
      "4902778120973 không là một mã vạch đúng\n",
      "Code error, please check again!!!!!!\n"
     ]
    }
   ],
   "source": [
    "\n",
    "while (True):\n",
    "    code = input('Code: ')\n",
    "    sumChan = 0\n",
    "    sumLe = 0\n",
    "    \n",
    "    if len(code) != 13 or code.isnumeric() == False:\n",
    "        print ('Code error, please check again!!!!!!')\n",
    "        break\n",
    "    else:\n",
    "        #Lấy số cuối chuỗi để kiểm tra tính đúng đắn của mã vạch\n",
    "        check = int(code[-1])\n",
    "\n",
    "        #Tính tổng chữ số ở vị trí chẵn và lẻ\n",
    "        for i in range(len(code)-1):\n",
    "            if i%2 != 0:\n",
    "                sumChan += int(code[i])\n",
    "            else:\n",
    "                sumLe += int(code[i])\n",
    "        \n",
    "        #Tính biến so sánh\n",
    "        d = sumLe + 3*sumChan\n",
    "        if d %10 != 0:\n",
    "            f = 10 - (d%10)\n",
    "        else:\n",
    "            f = 0\n",
    "\n",
    "        #Check mã vạch đúng hay không?\n",
    "        if f == check:\n",
    "            print (f'{code} là một mã vạch đúng')\n",
    "            continue\n",
    "        else:\n",
    "            print (f'{code} không là một mã vạch đúng')\n",
    "            continue\n",
    "\n"
   ]
  }
 ],
 "metadata": {
  "interpreter": {
   "hash": "d214c75ab8d1216eadbaa5a693322f926d575fb76f8b66bf2abcf5bac0e5cf6c"
  },
  "kernelspec": {
   "display_name": "Python 3.10.2 64-bit",
   "language": "python",
   "name": "python3"
  },
  "language_info": {
   "codemirror_mode": {
    "name": "ipython",
    "version": 3
   },
   "file_extension": ".py",
   "mimetype": "text/x-python",
   "name": "python",
   "nbconvert_exporter": "python",
   "pygments_lexer": "ipython3",
   "version": "3.10.2"
  },
  "orig_nbformat": 4
 },
 "nbformat": 4,
 "nbformat_minor": 2
}
